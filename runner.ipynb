{
 "cells": [
  {
   "cell_type": "code",
   "execution_count": 1,
   "metadata": {},
   "outputs": [],
   "source": [
    "from data_test import *"
   ]
  },
  {
   "cell_type": "code",
   "execution_count": 2,
   "metadata": {},
   "outputs": [
    {
     "name": "stdout",
     "output_type": "stream",
     "text": [
      "   subject_id   stay_id            charttime temperature  heartrate  resprate  \\\n",
      "0    10000032  32952584  2180-07-22 16:45:00         NaN       84.0      22.0   \n",
      "1    10000032  32952584  2180-07-22 17:56:00         NaN       84.0      20.0   \n",
      "2    10000032  32952584  2180-07-22 18:37:00     98.4000       86.0      20.0   \n",
      "3    10000032  32952584  2180-07-22 18:38:00         NaN       85.0      16.0   \n",
      "4    10000032  32952584  2180-07-22 19:47:00     98.2000       85.0      18.0   \n",
      "\n",
      "   o2sat   sbp   dbp rhythm pain  gender  \n",
      "0   97.0  75.0  39.0    NaN    0     0.0  \n",
      "1   99.0  86.0  51.0    NaN   0      NaN  \n",
      "2   98.0  65.0  37.0    NaN  NaN     NaN  \n",
      "3   99.0  83.0  45.0    NaN    0     NaN  \n",
      "4   98.0  81.0  38.0    NaN    0     NaN  \n"
     ]
    }
   ],
   "source": [
    "# load in the data and print the first few rows\n",
    "data = load_data();"
   ]
  },
  {
   "cell_type": "code",
   "execution_count": 3,
   "metadata": {},
   "outputs": [],
   "source": [
    "#change race to a consistent labeling system\n",
    "fix_race_data = fix_race(data);"
   ]
  },
  {
   "cell_type": "code",
   "execution_count": 4,
   "metadata": {},
   "outputs": [
    {
     "name": "stdout",
     "output_type": "stream",
     "text": [
      "removing excess columns \n",
      "\n",
      "    stay_id  heartrate  resprate  o2sat   sbp   dbp\n",
      "0  32952584       84.0      22.0   97.0  75.0  39.0\n",
      "1  32952584       84.0      20.0   99.0  86.0  51.0\n",
      "2  32952584       86.0      20.0   98.0  65.0  37.0\n",
      "3  32952584       85.0      16.0   99.0  83.0  45.0\n",
      "4  32952584       85.0      18.0   98.0  81.0  38.0\n"
     ]
    }
   ],
   "source": [
    "# remove columns we don't want\n",
    "no_cols_data = remove_excess_columns(fix_race_data);\n"
   ]
  },
  {
   "cell_type": "code",
   "execution_count": 5,
   "metadata": {},
   "outputs": [],
   "source": [
    "# split the data into a list of dataframes for each stay_id\n",
    "stay_id_list = split_by_stay_id(no_cols_data);"
   ]
  },
  {
   "cell_type": "code",
   "execution_count": null,
   "metadata": {},
   "outputs": [],
   "source": [
    "# get rid of all nan values\n",
    "no_nans_stay_id_list = remove_nan(stay_id_list);"
   ]
  },
  {
   "cell_type": "code",
   "execution_count": null,
   "metadata": {},
   "outputs": [
    {
     "name": "stdout",
     "output_type": "stream",
     "text": [
      "stay_id: 35217179\n",
      "stay_id: 31429096\n",
      "stay_id: 39354813\n",
      "stay_id: 32287800\n",
      "stay_id: 35932571\n",
      "[0. 0. 0. 0. 0.]\n"
     ]
    }
   ],
   "source": [
    "\n",
    "# lookup whether that stay_id had a cardiac arrest\n",
    "labels = get_labels_from_data(no_nans_stay_id_list);\n",
    "print(labels);"
   ]
  },
  {
   "cell_type": "code",
   "execution_count": null,
   "metadata": {},
   "outputs": [
    {
     "name": "stdout",
     "output_type": "stream",
     "text": [
      "      stay_id  heartrate  resprate  o2sat    sbp   dbp\n",
      "254  35217179      110.0      18.0   96.0  118.0  79.0\n",
      "255  35217179      122.0      23.0   97.0  124.0  86.0\n",
      "256  35217179      121.0      18.0   96.0  136.0  88.0\n",
      "257  35217179      110.0      21.0   96.0  126.0  84.0\n",
      "258  35217179      108.0      21.0   96.0  135.0  79.0\n",
      "259  35217179      107.0      19.0   95.0  126.0  69.0\n",
      "260  35217179      117.0      19.0   96.0  145.0  84.0\n",
      "261  35217179      113.0      14.0   95.0  153.0  85.0\n",
      "262  35217179      109.0      21.0   94.0  120.0  76.0\n",
      "263  35217179      111.0      15.0  100.0  129.0  87.0\n",
      "264  35217179      108.0      17.0  100.0  131.0  94.0\n",
      "265  35217179      120.0      20.0   96.0  124.0  83.0\n",
      "266  35217179      103.0      25.0   96.0  148.0  86.0\n",
      "267  35217179      113.0      23.0   95.0  136.0  87.0\n",
      "268  35217179      117.0      20.0   94.0  149.0  93.0\n",
      "269  35217179      120.0      18.0   96.0  126.0  76.0\n",
      "270  35217179       73.0      20.0   97.0  125.0  89.0\n",
      "271  35217179       72.0      18.0   97.0  109.0  68.0\n",
      "272  35217179       82.0      25.0   96.0  146.0  79.0\n",
      "273  35217179       78.0      18.0   97.0  150.0  64.0\n",
      "      stay_id  heartrate  resprate  o2sat    sbp   dbp\n",
      "822  31429096       73.0      17.0   99.0   82.0  41.0\n",
      "823  31429096       72.0      16.0   98.0   76.0  42.0\n",
      "824  31429096       73.0      13.0   98.0   82.0  41.0\n",
      "825  31429096       70.0      14.0   96.0  100.0  67.0\n",
      "826  31429096       71.0      23.0   99.0   75.0  48.0\n",
      "827  31429096       72.0      13.0   99.0   82.0  45.0\n",
      "828  31429096       68.0      13.0   99.0   80.0  45.0\n",
      "829  31429096       69.0      14.0  100.0   81.0  41.0\n",
      "830  31429096       70.0      13.0  100.0   84.0  44.0\n",
      "831  31429096       70.0      12.0   98.0   90.0  51.0\n",
      "832  31429096       73.0      17.0  100.0   93.0  51.0\n",
      "833  31429096       71.0      15.0  100.0  101.0  48.0\n",
      "834  31429096       69.0      20.0   99.0   95.0  54.0\n",
      "835  31429096       68.0      18.0   99.0  106.0  55.0\n",
      "836  31429096       68.0      14.0   98.0  102.0  53.0\n",
      "837  31429096       67.0      12.0  100.0   96.0  58.0\n",
      "838  31429096       65.0      15.0  100.0  100.0  59.0\n",
      "839  31429096       65.0      12.0   99.0   88.0  52.0\n",
      "840  31429096       63.0      16.0  100.0  106.0  54.0\n",
      "841  31429096       73.0      20.0  100.0  101.0  57.0\n",
      "       stay_id  heartrate  resprate  o2sat    sbp    dbp\n",
      "1218  39354813        NaN       NaN    NaN  175.0  101.0\n",
      "1219  39354813       85.0      16.0   99.0  175.0  100.0\n",
      "1220  39354813       86.0      18.0   99.0  173.0  107.0\n",
      "1221  39354813       79.0      16.0  100.0  157.0   87.0\n",
      "1222  39354813       88.0      16.0  100.0  184.0   90.0\n",
      "1223  39354813       88.0      16.0   99.0  148.0   86.0\n",
      "1224  39354813       74.0      18.0   98.0  138.0   84.0\n",
      "1225  39354813       79.0       NaN    NaN  151.0   90.0\n",
      "1226  39354813       77.0       NaN    NaN  155.0   90.0\n",
      "1227  39354813       77.0       NaN    NaN  135.0   81.0\n",
      "1228  39354813       88.0      16.0   99.0  155.0   95.0\n",
      "1229  39354813       83.0      18.0   99.0  139.0   92.0\n",
      "1230  39354813       81.0      12.0   93.0  152.0   84.0\n",
      "1231  39354813       78.0      10.0   94.0  123.0   78.0\n",
      "1232  39354813       72.0      11.0   96.0  137.0   74.0\n",
      "1233  39354813       83.0      16.0   96.0  155.0   85.0\n",
      "1234  39354813       83.0      14.0   96.0  155.0   85.0\n",
      "1235  39354813       80.0      12.0   96.0  132.0   80.0\n",
      "1236  39354813        NaN       NaN    NaN    NaN    NaN\n",
      "1237  39354813       70.0      18.0   96.0  119.0   78.0\n",
      "       stay_id  heartrate  resprate  o2sat    sbp   dbp\n",
      "2462  32287800       52.0      17.0  100.0  125.0  49.0\n",
      "2463  32287800       59.0      13.0   99.0  137.0  51.0\n",
      "2464  32287800       57.0      18.0   99.0  123.0  58.0\n",
      "2465  32287800       53.0      17.0   99.0   98.0  63.0\n",
      "2466  32287800       57.0      15.0   99.0  123.0  50.0\n",
      "2467  32287800       65.0      19.0   99.0  116.0  76.0\n",
      "2468  32287800       56.0      17.0  100.0  116.0  76.0\n",
      "2469  32287800       53.0      21.0   98.0  138.0  53.0\n",
      "2470  32287800       56.0      15.0   99.0  123.0  50.0\n",
      "2471  32287800       53.0      14.0   99.0    NaN   NaN\n",
      "2472  32287800       52.0       8.0   98.0  120.0  52.0\n",
      "2473  32287800       51.0      17.0  100.0  127.0  47.0\n",
      "2474  32287800       50.0      12.0   98.0  112.0  43.0\n",
      "2475  32287800       52.0      11.0   97.0  121.0  56.0\n",
      "2476  32287800       50.0      12.0   97.0   92.0  40.0\n",
      "2477  32287800       51.0      16.0   96.0   82.0  38.0\n",
      "2478  32287800       52.0      16.0  100.0   98.0  48.0\n",
      "2479  32287800       50.0      12.0   98.0  105.0  42.0\n",
      "2480  32287800       54.0      15.0  100.0  119.0  53.0\n",
      "2481  32287800       50.0      12.0  100.0  119.0  56.0\n",
      "       stay_id  heartrate  resprate  o2sat    sbp    dbp\n",
      "2832  35932571      102.0      15.0   99.0  154.0  100.0\n",
      "2833  35932571        NaN       NaN    NaN    NaN    NaN\n",
      "2834  35932571        NaN       NaN    NaN    NaN    NaN\n",
      "2835  35932571        NaN       NaN    NaN    NaN    NaN\n",
      "2836  35932571        NaN       NaN    NaN    NaN    NaN\n",
      "2837  35932571       89.0      18.0   99.0  146.0   71.0\n",
      "2838  35932571        NaN       NaN    NaN    NaN    NaN\n",
      "2839  35932571        NaN      18.0    NaN    NaN    NaN\n",
      "2840  35932571        NaN      16.0    NaN    NaN    NaN\n",
      "2841  35932571        NaN      18.0    NaN    NaN    NaN\n",
      "2842  35932571        NaN      18.0    NaN    NaN    NaN\n",
      "2843  35932571      101.0      20.0   98.0  128.0   74.0\n",
      "2844  35932571        NaN       NaN    NaN    NaN    NaN\n",
      "2845  35932571       78.0      15.0   96.0  129.0   90.0\n",
      "2846  35932571       95.0      18.0   97.0  138.0   77.0\n",
      "2847  35932571       95.0      18.0   97.0  131.0   80.0\n",
      "2848  35932571       91.0      18.0   97.0  124.0   83.0\n",
      "2849  35932571       70.0      18.0   97.0  123.0   77.0\n",
      "2850  35932571       99.0      16.0   98.0  141.0   94.0\n",
      "2851  35932571       89.0      16.0  100.0  111.0   66.0\n"
     ]
    }
   ],
   "source": [
    "completed_numpy_data = data_to_numpy_array(no_nans_stay_id_list);"
   ]
  },
  {
   "cell_type": "code",
   "execution_count": null,
   "metadata": {},
   "outputs": [],
   "source": [
    "# save data & labels to file\n",
    "save_data_to_file(labels, filename=\"labels\");\n",
    "save_data_to_file(completed_numpy_data, filename=\"data\");"
   ]
  }
 ],
 "metadata": {
  "kernelspec": {
   "display_name": "Python 3",
   "language": "python",
   "name": "python3"
  },
  "language_info": {
   "codemirror_mode": {
    "name": "ipython",
    "version": 3
   },
   "file_extension": ".py",
   "mimetype": "text/x-python",
   "name": "python",
   "nbconvert_exporter": "python",
   "pygments_lexer": "ipython3",
   "version": "3.8.10"
  },
  "orig_nbformat": 4
 },
 "nbformat": 4,
 "nbformat_minor": 2
}
