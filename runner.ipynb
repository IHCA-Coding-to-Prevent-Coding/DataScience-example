{
 "cells": [
  {
   "cell_type": "code",
   "execution_count": null,
   "metadata": {},
   "outputs": [],
   "source": [
    "# remove columns we don't want\n",
    "no_extra_cols_data = remove_excess_columns(race_fixed_data);"
   ]
  },
  {
   "cell_type": "code",
   "execution_count": null,
   "metadata": {},
   "outputs": [],
   "source": [
    "# split the data into a list of dataframes for each stay_id\n",
    "list_of_stay_id_datas = split_by_stay_id(no_extra_cols_data);"
   ]
  },
  {
   "cell_type": "code",
   "execution_count": null,
   "metadata": {},
   "outputs": [],
   "source": [
    "# check whether stay_id is long enough, 7 values\n",
    "# lookup whether that stay_id had a cardiac arrest\n",
    "# call had_cardiac_arrest here with each datapoint to determine the label\n",
    "data_with_labels = add_labels_to_data(list_of_stay_id_datas);"
   ]
  },
  {
   "cell_type": "code",
   "execution_count": null,
   "metadata": {},
   "outputs": [],
   "source": [
    "# format everything into a single numpy array\n",
    "data_array = data_to_numpy_array(data_with_labels);"
   ]
  },
  {
   "cell_type": "code",
   "execution_count": null,
   "metadata": {},
   "outputs": [],
   "source": [
    "# save the array to a file to ship to neural net\n",
    "save_data_to_file(data_array);"
   ]
  },
  {
   "cell_type": "code",
   "execution_count": null,
   "metadata": {},
   "outputs": [],
   "source": [
    "# load in the data and print the first few rows\n",
    "data = load_data();"
   ]
  },
  {
   "cell_type": "code",
   "execution_count": null,
   "metadata": {},
   "outputs": [],
   "source": [
    "# change race to a consistent labeling system\n",
    "race_fixed_data = fix_race(data);\n"
   ]
  },
  {
   "cell_type": "code",
   "execution_count": null,
   "metadata": {},
   "outputs": [],
   "source": [
    "from data_test import *"
   ]
  },
  {
   "cell_type": "code",
   "execution_count": null,
   "metadata": {},
   "outputs": [],
   "source": [
    "# split the data into a list of dataframes for each stay_id\n",
    "list_of_stay_id_datas = split_by_stay_id(no_extra_cols_data);"
   ]
  },
  {
   "cell_type": "code",
   "execution_count": null,
   "metadata": {},
   "outputs": [],
   "source": [
    "# check whether stay_id is long enough, 7 values\n",
    "# lookup whether that stay_id had a cardiac arrest\n",
    "# call had_cardiac_arrest here with each datapoint to determine the label\n",
    "data_with_labels = add_labels_to_data(list_of_stay_id_datas);"
   ]
  },
  {
   "cell_type": "code",
   "execution_count": null,
   "metadata": {},
   "outputs": [],
   "source": [
    "# save the array to a file to ship to neural net\n",
    "save_data_to_file(data_array);"
   ]
  },
  {
   "cell_type": "code",
   "execution_count": null,
   "metadata": {},
   "outputs": [],
   "source": [
    "# change race to a consistent labeling system\n",
    "race_fixed_data = fix_race(data);\n"
   ]
  },
  {
   "cell_type": "code",
   "execution_count": null,
   "metadata": {},
   "outputs": [],
   "source": [
    "# remove columns we don't want\n",
    "no_extra_cols_data = remove_excess_columns(race_fixed_data);"
   ]
  },
  {
   "cell_type": "code",
   "execution_count": null,
   "metadata": {},
   "outputs": [],
   "source": [
    "# split the data into a list of dataframes for each stay_id\n",
    "list_of_stay_id_datas = split_by_stay_id(no_extra_cols_data);"
   ]
  },
  {
   "cell_type": "code",
   "execution_count": null,
   "metadata": {},
   "outputs": [],
   "source": [
    "# format everything into a single numpy array\n",
    "data_array = data_to_numpy_array(data_with_labels);"
   ]
  },
  {
   "cell_type": "code",
   "execution_count": null,
   "metadata": {},
   "outputs": [],
   "source": [
    "# load in the data and print the first few rows\n",
    "data = load_data();"
   ]
  },
  {
   "cell_type": "code",
   "execution_count": null,
   "metadata": {},
   "outputs": [],
   "source": [
    "from data_test import *"
   ]
  },
  {
   "cell_type": "code",
   "execution_count": null,
   "metadata": {},
   "outputs": [],
   "source": [
    "# check whether stay_id is long enough, 7 values\n",
    "# lookup whether that stay_id had a cardiac arrest\n",
    "# call had_cardiac_arrest here with each datapoint to determine the label\n",
    "data_with_labels = add_labels_to_data(list_of_stay_id_datas);"
   ]
  },
  {
   "cell_type": "code",
   "execution_count": null,
   "metadata": {},
   "outputs": [],
   "source": [
    "# format everything into a single numpy array\n",
    "data_array = data_to_numpy_array(data_with_labels);"
   ]
  },
  {
   "cell_type": "code",
   "execution_count": null,
   "metadata": {},
   "outputs": [],
   "source": [
    "# check whether stay_id is long enough, 7 values\n",
    "# lookup whether that stay_id had a cardiac arrest\n",
    "# call had_cardiac_arrest here with each datapoint to determine the label\n",
    "data_with_labels = add_labels_to_data(list_of_stay_id_datas);"
   ]
  },
  {
   "cell_type": "code",
   "execution_count": null,
   "metadata": {},
   "outputs": [],
   "source": [
    "# change race to a consistent labeling system\n",
    "race_fixed_data = fix_race(data);\n"
   ]
  },
  {
   "cell_type": "code",
   "execution_count": null,
   "metadata": {},
   "outputs": [],
   "source": [
    "# split the data into a list of dataframes for each stay_id\n",
    "list_of_stay_id_datas = split_by_stay_id(no_extra_cols_data);"
   ]
  },
  {
   "cell_type": "code",
   "execution_count": null,
   "metadata": {},
   "outputs": [],
   "source": [
    "# format everything into a single numpy array\n",
    "data_array = data_to_numpy_array(data_with_labels);"
   ]
  },
  {
   "cell_type": "code",
   "execution_count": null,
   "metadata": {},
   "outputs": [],
   "source": [
    "# load in the data and print the first few rows\n",
    "data = load_data();"
   ]
  },
  {
   "cell_type": "code",
   "execution_count": null,
   "metadata": {},
   "outputs": [],
   "source": [
    "from data_test import *"
   ]
  },
  {
   "cell_type": "code",
   "execution_count": null,
   "metadata": {},
   "outputs": [],
   "source": [
    "# check whether stay_id is long enough, 7 values\n",
    "# lookup whether that stay_id had a cardiac arrest\n",
    "# call had_cardiac_arrest here with each datapoint to determine the label\n",
    "data_with_labels = add_labels_to_data(list_of_stay_id_datas);"
   ]
  },
  {
   "cell_type": "code",
   "execution_count": null,
   "metadata": {},
   "outputs": [],
   "source": [
    "# change race to a consistent labeling system\n",
    "race_fixed_data = fix_race(data);\n"
   ]
  },
  {
   "cell_type": "code",
   "execution_count": null,
   "metadata": {},
   "outputs": [],
   "source": [
    "# split the data into a list of dataframes for each stay_id\n",
    "list_of_stay_id_datas = split_by_stay_id(no_extra_cols_data);"
   ]
  },
  {
   "cell_type": "code",
   "execution_count": null,
   "metadata": {},
   "outputs": [],
   "source": [
    "# load in the data and print the first few rows\n",
    "data = load_data();"
   ]
  },
  {
   "cell_type": "code",
   "execution_count": null,
   "metadata": {},
   "outputs": [],
   "source": [
    "from data_test import *"
   ]
  },
  {
   "cell_type": "code",
   "execution_count": null,
   "metadata": {},
   "outputs": [],
   "source": [
    "# check whether stay_id is long enough, 7 values\n",
    "# lookup whether that stay_id had a cardiac arrest\n",
    "# call had_cardiac_arrest here with each datapoint to determine the label\n",
    "data_with_labels = add_labels_to_data(list_of_stay_id_datas);"
   ]
  },
  {
   "cell_type": "code",
   "execution_count": null,
   "metadata": {},
   "outputs": [],
   "source": [
    "# format everything into a single numpy array\n",
    "data_array = data_to_numpy_array(data_with_labels);"
   ]
  },
  {
   "cell_type": "code",
   "execution_count": null,
   "metadata": {},
   "outputs": [],
   "source": [
    "# check whether stay_id is long enough, 7 values\n",
    "# lookup whether that stay_id had a cardiac arrest\n",
    "# call had_cardiac_arrest here with each datapoint to determine the label\n",
    "data_with_labels = add_labels_to_data(list_of_stay_id_datas);"
   ]
  },
  {
   "cell_type": "code",
   "execution_count": null,
   "metadata": {},
   "outputs": [],
   "source": [
    "# change race to a consistent labeling system\n",
    "race_fixed_data = fix_race(data);\n"
   ]
  }
 ],
 "metadata": {
  "kernelspec": {
   "display_name": "Python 3",
   "language": "python",
   "name": "python3"
  },
  "language_info": {
   "codemirror_mode": {
    "name": "ipython",
    "version": 3
   },
   "file_extension": ".py",
   "mimetype": "text/x-python",
   "name": "python",
   "nbconvert_exporter": "python",
   "pygments_lexer": "ipython3",
   "version": "3.8.10"
  },
  "orig_nbformat": 4
 },
 "nbformat": 4,
 "nbformat_minor": 2
}
